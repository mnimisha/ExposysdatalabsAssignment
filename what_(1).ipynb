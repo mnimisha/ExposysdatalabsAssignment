{
  "nbformat": 4,
  "nbformat_minor": 0,
  "metadata": {
    "colab": {
      "name": "what (1).ipynb",
      "provenance": [],
      "toc_visible": true,
      "include_colab_link": true
    },
    "kernelspec": {
      "name": "python3",
      "display_name": "Python 3"
    }
  },
  "cells": [
    {
      "cell_type": "markdown",
      "metadata": {
        "id": "view-in-github",
        "colab_type": "text"
      },
      "source": [
        "<a href=\"https://colab.research.google.com/github/mnimisha/ExposysdatalabsAssignment/blob/master/what_(1).ipynb\" target=\"_parent\"><img src=\"https://colab.research.google.com/assets/colab-badge.svg\" alt=\"Open In Colab\"/></a>"
      ]
    },
    {
      "cell_type": "code",
      "metadata": {
        "id": "GkCgGT1AnS_X",
        "colab_type": "code",
        "colab": {}
      },
      "source": [
        "import pandas as pd\n",
        "import numpy as np\n",
        "import nltk\n",
        "import matplotlib.pyplot as plt\n",
        "\n",
        "%matplotlib inline\n"
      ],
      "execution_count": 3,
      "outputs": []
    },
    {
      "cell_type": "code",
      "metadata": {
        "id": "B_Dv5XMUncGW",
        "colab_type": "code",
        "colab": {
          "base_uri": "https://localhost:8080/",
          "height": 72
        },
        "outputId": "700fc1b5-6410-41c4-982f-0dc61cc3c300"
      },
      "source": [
        "df = pd.read_csv(\"LabelledData.txt\",sep=\",,,\",header=None ,names=['question','type'])"
      ],
      "execution_count": 4,
      "outputs": [
        {
          "output_type": "stream",
          "text": [
            "/usr/local/lib/python3.6/dist-packages/ipykernel_launcher.py:1: ParserWarning: Falling back to the 'python' engine because the 'c' engine does not support regex separators (separators > 1 char and different from '\\s+' are interpreted as regex); you can avoid this warning by specifying engine='python'.\n",
            "  \"\"\"Entry point for launching an IPython kernel.\n"
          ],
          "name": "stderr"
        }
      ]
    },
    {
      "cell_type": "code",
      "metadata": {
        "id": "wM1ErpH4nxKd",
        "colab_type": "code",
        "colab": {
          "base_uri": "https://localhost:8080/",
          "height": 206
        },
        "outputId": "549eb65f-b895-4adb-a761-b8cc20c5dc4f"
      },
      "source": [
        "df.head()"
      ],
      "execution_count": 5,
      "outputs": [
        {
          "output_type": "execute_result",
          "data": {
            "text/html": [
              "<div>\n",
              "<style scoped>\n",
              "    .dataframe tbody tr th:only-of-type {\n",
              "        vertical-align: middle;\n",
              "    }\n",
              "\n",
              "    .dataframe tbody tr th {\n",
              "        vertical-align: top;\n",
              "    }\n",
              "\n",
              "    .dataframe thead th {\n",
              "        text-align: right;\n",
              "    }\n",
              "</style>\n",
              "<table border=\"1\" class=\"dataframe\">\n",
              "  <thead>\n",
              "    <tr style=\"text-align: right;\">\n",
              "      <th></th>\n",
              "      <th>question</th>\n",
              "      <th>type</th>\n",
              "    </tr>\n",
              "  </thead>\n",
              "  <tbody>\n",
              "    <tr>\n",
              "      <th>0</th>\n",
              "      <td>how did serfdom develop in and then leave russ...</td>\n",
              "      <td>unknown</td>\n",
              "    </tr>\n",
              "    <tr>\n",
              "      <th>1</th>\n",
              "      <td>what films featured the character popeye doyle ?</td>\n",
              "      <td>what</td>\n",
              "    </tr>\n",
              "    <tr>\n",
              "      <th>2</th>\n",
              "      <td>how can i find a list of celebrities ' real na...</td>\n",
              "      <td>unknown</td>\n",
              "    </tr>\n",
              "    <tr>\n",
              "      <th>3</th>\n",
              "      <td>what fowl grabs the spotlight after the chines...</td>\n",
              "      <td>what</td>\n",
              "    </tr>\n",
              "    <tr>\n",
              "      <th>4</th>\n",
              "      <td>what is the full form of .com ?</td>\n",
              "      <td>what</td>\n",
              "    </tr>\n",
              "  </tbody>\n",
              "</table>\n",
              "</div>"
            ],
            "text/plain": [
              "                                            question      type\n",
              "0  how did serfdom develop in and then leave russ...   unknown\n",
              "1  what films featured the character popeye doyle ?       what\n",
              "2  how can i find a list of celebrities ' real na...   unknown\n",
              "3  what fowl grabs the spotlight after the chines...      what\n",
              "4                   what is the full form of .com ?       what"
            ]
          },
          "metadata": {
            "tags": []
          },
          "execution_count": 5
        }
      ]
    },
    {
      "cell_type": "code",
      "metadata": {
        "id": "4Z06KSzKog2I",
        "colab_type": "code",
        "colab": {
          "base_uri": "https://localhost:8080/",
          "height": 34
        },
        "outputId": "80081efb-2d80-468d-f68d-bf639dfcbbf8"
      },
      "source": [
        "df.shape"
      ],
      "execution_count": 6,
      "outputs": [
        {
          "output_type": "execute_result",
          "data": {
            "text/plain": [
              "(1483, 2)"
            ]
          },
          "metadata": {
            "tags": []
          },
          "execution_count": 6
        }
      ]
    },
    {
      "cell_type": "code",
      "metadata": {
        "id": "oVHIWDSgojdK",
        "colab_type": "code",
        "colab": {}
      },
      "source": [
        "df['type']=df['type'].str.strip()"
      ],
      "execution_count": 7,
      "outputs": []
    },
    {
      "cell_type": "code",
      "metadata": {
        "id": "F50wcOCLolxH",
        "colab_type": "code",
        "colab": {
          "base_uri": "https://localhost:8080/",
          "height": 34
        },
        "outputId": "eb1f5ce7-80e0-436f-8d10-3ff70c76273b"
      },
      "source": [
        "df['type'].unique()"
      ],
      "execution_count": 8,
      "outputs": [
        {
          "output_type": "execute_result",
          "data": {
            "text/plain": [
              "array(['unknown', 'what', 'when', 'who', 'affirmation'], dtype=object)"
            ]
          },
          "metadata": {
            "tags": []
          },
          "execution_count": 8
        }
      ]
    },
    {
      "cell_type": "code",
      "metadata": {
        "id": "vpaJ5ELRon6g",
        "colab_type": "code",
        "colab": {
          "base_uri": "https://localhost:8080/",
          "height": 121
        },
        "outputId": "e953dc6e-39e4-4ffa-ab29-7f5bf124426c"
      },
      "source": [
        "df['question'].values"
      ],
      "execution_count": 9,
      "outputs": [
        {
          "output_type": "execute_result",
          "data": {
            "text/plain": [
              "array(['how did serfdom develop in and then leave russia ? ',\n",
              "       'what films featured the character popeye doyle ? ',\n",
              "       \"how can i find a list of celebrities ' real names ? \", ...,\n",
              "       'does this hose have one ? ', 'can i get it in india ? ',\n",
              "       'would this work on a 2008 ford edge with a naked roof ? '],\n",
              "      dtype=object)"
            ]
          },
          "metadata": {
            "tags": []
          },
          "execution_count": 9
        }
      ]
    },
    {
      "cell_type": "code",
      "metadata": {
        "id": "2W7GI5gyop7X",
        "colab_type": "code",
        "colab": {}
      },
      "source": [
        "import re\n",
        "df['question'] = df['question'].apply(lambda x: x.lower())\n",
        "df['question'] = df['question'].apply((lambda x: re.sub('[^a-zA-z0-9\\s]','',x)))"
      ],
      "execution_count": 10,
      "outputs": []
    },
    {
      "cell_type": "code",
      "metadata": {
        "id": "hxq0ug1NoskH",
        "colab_type": "code",
        "colab": {}
      },
      "source": [
        "VALIDATION_SPLIT=0.20"
      ],
      "execution_count": 11,
      "outputs": []
    },
    {
      "cell_type": "code",
      "metadata": {
        "id": "-0VcL-aoo0cf",
        "colab_type": "code",
        "colab": {}
      },
      "source": [
        "from keras.models import Sequential\n",
        "from keras.layers import Dense, Embedding, LSTM\n",
        "from sklearn.model_selection import train_test_split\n",
        "from keras.utils.np_utils import to_categorical"
      ],
      "execution_count": 12,
      "outputs": []
    },
    {
      "cell_type": "code",
      "metadata": {
        "id": "yMjS4XS_o6MY",
        "colab_type": "code",
        "colab": {}
      },
      "source": [
        "MAX_NB_WORDS = 20000\n",
        "MAX_SEQUENCE_LENGTH=30"
      ],
      "execution_count": 13,
      "outputs": []
    },
    {
      "cell_type": "code",
      "metadata": {
        "id": "PnrNqPEfo-C1",
        "colab_type": "code",
        "colab": {}
      },
      "source": [
        "from keras.preprocessing.text import Tokenizer\n",
        "from keras.preprocessing.sequence import pad_sequences\n",
        "import re"
      ],
      "execution_count": 14,
      "outputs": []
    },
    {
      "cell_type": "code",
      "metadata": {
        "id": "TTeo3_-CpAdB",
        "colab_type": "code",
        "colab": {}
      },
      "source": [
        "data=df.copy()"
      ],
      "execution_count": 15,
      "outputs": []
    },
    {
      "cell_type": "code",
      "metadata": {
        "id": "0l0nEhBbpCt6",
        "colab_type": "code",
        "colab": {
          "base_uri": "https://localhost:8080/",
          "height": 121
        },
        "outputId": "22744b63-df65-43ef-8463-621d303abe75"
      },
      "source": [
        "print(data['type'].value_counts())\n",
        "\n",
        "tokenizer = Tokenizer(num_words=MAX_NB_WORDS, split=' ')\n",
        "tokenizer.fit_on_texts(data['question'].values)\n",
        "X = tokenizer.texts_to_sequences(data['question'].values)\n",
        "X = pad_sequences(X, maxlen=MAX_SEQUENCE_LENGTH)"
      ],
      "execution_count": 16,
      "outputs": [
        {
          "output_type": "stream",
          "text": [
            "what           609\n",
            "who            402\n",
            "unknown        272\n",
            "affirmation    104\n",
            "when            96\n",
            "Name: type, dtype: int64\n"
          ],
          "name": "stdout"
        }
      ]
    },
    {
      "cell_type": "code",
      "metadata": {
        "id": "u2_PEO8hpUjJ",
        "colab_type": "code",
        "colab": {
          "base_uri": "https://localhost:8080/",
          "height": 69
        },
        "outputId": "fabb4c9f-0a36-4055-9fd5-fa926d9b6583"
      },
      "source": [
        "word_index = tokenizer.word_index\n",
        "print('Found %s unique tokens.' % len(word_index))\n",
        "\n",
        "Y = data['type']\n",
        "from sklearn import preprocessing\n",
        "le = preprocessing.LabelEncoder()\n",
        "le.fit(Y)\n",
        "Y=le.transform(Y) \n",
        "labels = to_categorical(np.asarray(Y))\n",
        "print('Shape of data tensor:', X.shape)\n",
        "print('Shape of label tensor:', labels.shape)\n",
        "\n",
        "\n",
        "# split the data into a training set and a validation set\n",
        "indices = np.arange(X.shape[0])\n",
        "np.random.shuffle(indices)\n",
        "X = X[indices]\n",
        "labels = labels[indices]\n",
        "nb_validation_samples = int(VALIDATION_SPLIT * X.shape[0])\n",
        "\n",
        "x_train = X[:-nb_validation_samples]\n",
        "y_train = labels[:-nb_validation_samples]\n",
        "x_val = X[-nb_validation_samples:]\n",
        "y_val = labels[-nb_validation_samples:]"
      ],
      "execution_count": 17,
      "outputs": [
        {
          "output_type": "stream",
          "text": [
            "Found 3685 unique tokens.\n",
            "Shape of data tensor: (1483, 30)\n",
            "Shape of label tensor: (1483, 5)\n"
          ],
          "name": "stdout"
        }
      ]
    },
    {
      "cell_type": "code",
      "metadata": {
        "id": "pt9tZUFgpbPR",
        "colab_type": "code",
        "colab": {
          "base_uri": "https://localhost:8080/",
          "height": 364
        },
        "outputId": "6beaeead-591f-483d-ccaa-3f794ef8ab01"
      },
      "source": [
        "!wget http://nlp.stanford.edu/data/glove.6B.zip "
      ],
      "execution_count": 18,
      "outputs": [
        {
          "output_type": "stream",
          "text": [
            "--2020-08-23 10:09:41--  http://nlp.stanford.edu/data/glove.6B.zip\n",
            "Resolving nlp.stanford.edu (nlp.stanford.edu)... 171.64.67.140\n",
            "Connecting to nlp.stanford.edu (nlp.stanford.edu)|171.64.67.140|:80... connected.\n",
            "HTTP request sent, awaiting response... 302 Found\n",
            "Location: https://nlp.stanford.edu/data/glove.6B.zip [following]\n",
            "--2020-08-23 10:09:41--  https://nlp.stanford.edu/data/glove.6B.zip\n",
            "Connecting to nlp.stanford.edu (nlp.stanford.edu)|171.64.67.140|:443... connected.\n",
            "HTTP request sent, awaiting response... 301 Moved Permanently\n",
            "Location: http://downloads.cs.stanford.edu/nlp/data/glove.6B.zip [following]\n",
            "--2020-08-23 10:09:41--  http://downloads.cs.stanford.edu/nlp/data/glove.6B.zip\n",
            "Resolving downloads.cs.stanford.edu (downloads.cs.stanford.edu)... 171.64.64.22\n",
            "Connecting to downloads.cs.stanford.edu (downloads.cs.stanford.edu)|171.64.64.22|:80... connected.\n",
            "HTTP request sent, awaiting response... 200 OK\n",
            "Length: 862182613 (822M) [application/zip]\n",
            "Saving to: ‘glove.6B.zip’\n",
            "\n",
            "glove.6B.zip        100%[===================>] 822.24M  1.94MB/s    in 6m 36s  \n",
            "\n",
            "2020-08-23 10:16:17 (2.08 MB/s) - ‘glove.6B.zip’ saved [862182613/862182613]\n",
            "\n"
          ],
          "name": "stdout"
        }
      ]
    },
    {
      "cell_type": "code",
      "metadata": {
        "id": "97iwY8jIpf0T",
        "colab_type": "code",
        "colab": {
          "base_uri": "https://localhost:8080/",
          "height": 104
        },
        "outputId": "bc9a9e79-97eb-4c74-9d4f-1ef22b8d44de"
      },
      "source": [
        "!unzip glove*.zip"
      ],
      "execution_count": 19,
      "outputs": [
        {
          "output_type": "stream",
          "text": [
            "Archive:  glove.6B.zip\n",
            "  inflating: glove.6B.50d.txt        \n",
            "  inflating: glove.6B.100d.txt       \n",
            "  inflating: glove.6B.200d.txt       \n",
            "  inflating: glove.6B.300d.txt       \n"
          ],
          "name": "stdout"
        }
      ]
    },
    {
      "cell_type": "code",
      "metadata": {
        "id": "Zf6dDqtZpiHq",
        "colab_type": "code",
        "colab": {
          "base_uri": "https://localhost:8080/",
          "height": 52
        },
        "outputId": "5b62c2bf-72d2-4ef6-cc22-b82c6018c896"
      },
      "source": [
        "%ls"
      ],
      "execution_count": 20,
      "outputs": [
        {
          "output_type": "stream",
          "text": [
            "glove.6B.100d.txt  glove.6B.300d.txt  glove.6B.zip      \u001b[0m\u001b[01;34msample_data\u001b[0m/\n",
            "glove.6B.200d.txt  glove.6B.50d.txt   LabelledData.txt\n"
          ],
          "name": "stdout"
        }
      ]
    },
    {
      "cell_type": "code",
      "metadata": {
        "id": "Q7Hs6dZv1hex",
        "colab_type": "code",
        "colab": {
          "base_uri": "https://localhost:8080/",
          "height": 34
        },
        "outputId": "6d9a05fa-5244-47e1-9636-4f3a095e692e"
      },
      "source": [
        "embeddings_index = {}\n",
        "f = open('glove.6B.300d.txt', encoding=\"utf8\")\n",
        "for line in f:\n",
        "    values = line.split()\n",
        "    word = values[0]\n",
        "    coefs = np.asarray(values[1:], dtype='float32')\n",
        "    embeddings_index[word] = coefs\n",
        "f.close()\n",
        "\n",
        "print('Found %s word vectors.' % len(embeddings_index))"
      ],
      "execution_count": 21,
      "outputs": [
        {
          "output_type": "stream",
          "text": [
            "Found 400000 word vectors.\n"
          ],
          "name": "stdout"
        }
      ]
    },
    {
      "cell_type": "code",
      "metadata": {
        "id": "Ri-2CW5D2Lm1",
        "colab_type": "code",
        "colab": {}
      },
      "source": [
        "EMBEDDING_DIM=300"
      ],
      "execution_count": 22,
      "outputs": []
    },
    {
      "cell_type": "code",
      "metadata": {
        "id": "rSDvCJ0g3Cjp",
        "colab_type": "code",
        "colab": {}
      },
      "source": [
        "embedding_matrix = np.zeros((len(word_index) + 1, EMBEDDING_DIM))\n",
        "for word, i in word_index.items():\n",
        "    embedding_vector = embeddings_index.get(word)\n",
        "    if embedding_vector is not None:\n",
        "        # words not found in embedding index will be all-zeros.\n",
        "        embedding_matrix[i] = embedding_vector"
      ],
      "execution_count": 23,
      "outputs": []
    },
    {
      "cell_type": "code",
      "metadata": {
        "id": "0Rs8FVs93Gwx",
        "colab_type": "code",
        "colab": {}
      },
      "source": [
        "from keras.layers import Embedding\n",
        "\n",
        "embedding_layer = Embedding(len(word_index) + 1,\n",
        "                            EMBEDDING_DIM,\n",
        "                            weights=[embedding_matrix],\n",
        "                            input_length=MAX_SEQUENCE_LENGTH,\n",
        "                            trainable=False)"
      ],
      "execution_count": 24,
      "outputs": []
    },
    {
      "cell_type": "code",
      "metadata": {
        "id": "iOJaHbhU3LUi",
        "colab_type": "code",
        "colab": {
          "base_uri": "https://localhost:8080/",
          "height": 278
        },
        "outputId": "4f60049c-422d-4af4-edfe-a3027cd13c1d"
      },
      "source": [
        "embed_dim = 300\n",
        "lstm_out = 196\n",
        "model = Sequential()\n",
        "model.add(embedding_layer)\n",
        "model.add(LSTM(lstm_out, dropout=0.25, recurrent_dropout=0.25))\n",
        "model.add(Dense(5,activation='softmax'))\n",
        "model.compile(loss = 'categorical_crossentropy', optimizer='adam',metrics = ['accuracy'])\n",
        "print(model.summary())"
      ],
      "execution_count": 25,
      "outputs": [
        {
          "output_type": "stream",
          "text": [
            "Model: \"sequential\"\n",
            "_________________________________________________________________\n",
            "Layer (type)                 Output Shape              Param #   \n",
            "=================================================================\n",
            "embedding (Embedding)        (None, 30, 300)           1105800   \n",
            "_________________________________________________________________\n",
            "lstm (LSTM)                  (None, 196)               389648    \n",
            "_________________________________________________________________\n",
            "dense (Dense)                (None, 5)                 985       \n",
            "=================================================================\n",
            "Total params: 1,496,433\n",
            "Trainable params: 390,633\n",
            "Non-trainable params: 1,105,800\n",
            "_________________________________________________________________\n",
            "None\n"
          ],
          "name": "stdout"
        }
      ]
    },
    {
      "cell_type": "code",
      "metadata": {
        "id": "kGTgs1SR3O8V",
        "colab_type": "code",
        "colab": {
          "base_uri": "https://localhost:8080/",
          "height": 749
        },
        "outputId": "1710b8a5-e15a-477d-c1ac-8380e3e423ed"
      },
      "source": [
        "model.fit(x_train, y_train,\n",
        "          batch_size=128,\n",
        "          epochs=20,\n",
        "          validation_data=(x_val, y_val))"
      ],
      "execution_count": 26,
      "outputs": [
        {
          "output_type": "stream",
          "text": [
            "Epoch 1/20\n",
            "10/10 [==============================] - 4s 397ms/step - loss: 1.4085 - accuracy: 0.4120 - val_loss: 1.2660 - val_accuracy: 0.5405\n",
            "Epoch 2/20\n",
            "10/10 [==============================] - 4s 354ms/step - loss: 1.0594 - accuracy: 0.6243 - val_loss: 0.8520 - val_accuracy: 0.6723\n",
            "Epoch 3/20\n",
            "10/10 [==============================] - 4s 355ms/step - loss: 0.6454 - accuracy: 0.7885 - val_loss: 0.5340 - val_accuracy: 0.7973\n",
            "Epoch 4/20\n",
            "10/10 [==============================] - 4s 361ms/step - loss: 0.4298 - accuracy: 0.8719 - val_loss: 0.3181 - val_accuracy: 0.9122\n",
            "Epoch 5/20\n",
            "10/10 [==============================] - 4s 360ms/step - loss: 0.2622 - accuracy: 0.9360 - val_loss: 0.2239 - val_accuracy: 0.9426\n",
            "Epoch 6/20\n",
            "10/10 [==============================] - 4s 365ms/step - loss: 0.1816 - accuracy: 0.9621 - val_loss: 0.1948 - val_accuracy: 0.9561\n",
            "Epoch 7/20\n",
            "10/10 [==============================] - 4s 367ms/step - loss: 0.1363 - accuracy: 0.9705 - val_loss: 0.1662 - val_accuracy: 0.9595\n",
            "Epoch 8/20\n",
            "10/10 [==============================] - 4s 357ms/step - loss: 0.1062 - accuracy: 0.9773 - val_loss: 0.1867 - val_accuracy: 0.9561\n",
            "Epoch 9/20\n",
            "10/10 [==============================] - 4s 363ms/step - loss: 0.1000 - accuracy: 0.9773 - val_loss: 0.1974 - val_accuracy: 0.9561\n",
            "Epoch 10/20\n",
            "10/10 [==============================] - 4s 360ms/step - loss: 0.0879 - accuracy: 0.9806 - val_loss: 0.1355 - val_accuracy: 0.9628\n",
            "Epoch 11/20\n",
            "10/10 [==============================] - 4s 360ms/step - loss: 0.0772 - accuracy: 0.9789 - val_loss: 0.1565 - val_accuracy: 0.9561\n",
            "Epoch 12/20\n",
            "10/10 [==============================] - 4s 368ms/step - loss: 0.0657 - accuracy: 0.9840 - val_loss: 0.1509 - val_accuracy: 0.9662\n",
            "Epoch 13/20\n",
            "10/10 [==============================] - 4s 367ms/step - loss: 0.0583 - accuracy: 0.9874 - val_loss: 0.1416 - val_accuracy: 0.9696\n",
            "Epoch 14/20\n",
            "10/10 [==============================] - 4s 363ms/step - loss: 0.0516 - accuracy: 0.9840 - val_loss: 0.1453 - val_accuracy: 0.9628\n",
            "Epoch 15/20\n",
            "10/10 [==============================] - 4s 359ms/step - loss: 0.0474 - accuracy: 0.9848 - val_loss: 0.1501 - val_accuracy: 0.9696\n",
            "Epoch 16/20\n",
            "10/10 [==============================] - 4s 358ms/step - loss: 0.0452 - accuracy: 0.9857 - val_loss: 0.1663 - val_accuracy: 0.9628\n",
            "Epoch 17/20\n",
            "10/10 [==============================] - 4s 361ms/step - loss: 0.0376 - accuracy: 0.9882 - val_loss: 0.1494 - val_accuracy: 0.9696\n",
            "Epoch 18/20\n",
            "10/10 [==============================] - 4s 360ms/step - loss: 0.0363 - accuracy: 0.9907 - val_loss: 0.1445 - val_accuracy: 0.9628\n",
            "Epoch 19/20\n",
            "10/10 [==============================] - 4s 357ms/step - loss: 0.0389 - accuracy: 0.9916 - val_loss: 0.1796 - val_accuracy: 0.9696\n",
            "Epoch 20/20\n",
            "10/10 [==============================] - 4s 359ms/step - loss: 0.0488 - accuracy: 0.9874 - val_loss: 0.1681 - val_accuracy: 0.9595\n"
          ],
          "name": "stdout"
        },
        {
          "output_type": "execute_result",
          "data": {
            "text/plain": [
              "<tensorflow.python.keras.callbacks.History at 0x7f2822a63b70>"
            ]
          },
          "metadata": {
            "tags": []
          },
          "execution_count": 26
        }
      ]
    },
    {
      "cell_type": "code",
      "metadata": {
        "id": "iGRhbyJ84Wmm",
        "colab_type": "code",
        "colab": {
          "base_uri": "https://localhost:8080/",
          "height": 52
        },
        "outputId": "5c691124-8698-4a41-92d4-c908b4d59952"
      },
      "source": [
        "name=input()\n",
        "example = tokenizer.texts_to_sequences([name])\n",
        "example = pad_sequences(example, maxlen=MAX_SEQUENCE_LENGTH)\n",
        "le.inverse_transform([np.argmax(model.predict(example))])"
      ],
      "execution_count": 27,
      "outputs": [
        {
          "output_type": "stream",
          "text": [
            "ENTY:cremat On what T.V. show could Tom Terrific be found ?\n"
          ],
          "name": "stdout"
        },
        {
          "output_type": "execute_result",
          "data": {
            "text/plain": [
              "array(['what'], dtype=object)"
            ]
          },
          "metadata": {
            "tags": []
          },
          "execution_count": 27
        }
      ]
    },
    {
      "cell_type": "code",
      "metadata": {
        "id": "3Ckao12a5aR6",
        "colab_type": "code",
        "colab": {}
      },
      "source": [
        "\n"
      ],
      "execution_count": 27,
      "outputs": []
    },
    {
      "cell_type": "code",
      "metadata": {
        "id": "ZIvQd9Ug5qzI",
        "colab_type": "code",
        "colab": {}
      },
      "source": [
        ""
      ],
      "execution_count": 27,
      "outputs": []
    }
  ]
}